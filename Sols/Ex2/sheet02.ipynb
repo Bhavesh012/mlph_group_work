{
 "cells": [
  {
   "cell_type": "markdown",
   "metadata": {},
   "source": [
    "# Sheet 2"
   ]
  },
  {
   "cell_type": "code",
   "execution_count": 1,
   "metadata": {},
   "outputs": [],
   "source": [
    "import numpy as np\n",
    "from matplotlib import pyplot as plt\n",
    "from scipy.stats import gaussian_kde"
   ]
  },
  {
   "cell_type": "markdown",
   "metadata": {},
   "source": [
    "## 1 Kernel Density Estimation\n",
    "(a)"
   ]
  },
  {
   "cell_type": "code",
   "execution_count": 13,
   "metadata": {},
   "outputs": [
    {
     "data": {
      "image/png": "[encoded data removed]",
      "text/plain": [
       "<Figure size 864x720 with 1 Axes>"
      ]
     },
     "metadata": {
      "needs_background": "light"
     },
     "output_type": "display_data"
    }
   ],
   "source": [
    "def biweight(x, mu, w):\n",
    "    \"\"\"biweight kernel at mean mu, with bandwidth w evaluated at x\"\"\"\n",
    "    #TODO: implement the quartic (biweight) kernel\n",
    "\n",
    "    ##we are providing x as a form of array\n",
    "    return (15./16*w)*(1-((x-mu)/w)**2)**2\n",
    "\n",
    "x = np.linspace(-1,1,1000)\n",
    "\n",
    "kernel = np.array([biweight(x,mu = 0,w = 1)]).reshape(1000)\n",
    "plt.figure(figsize = (12,10))\n",
    "plt.title(r'$\\mu = 0,w = 1$')\n",
    "plt.plot(x,kernel)\n",
    "plt.xlabel('x',fontsize = 21)\n",
    "plt.ylabel('k',fontsize = 21)\n",
    "\n",
    "plt.show()\n",
    "\n"
   ]
  },
  {
   "cell_type": "code",
   "execution_count": null,
   "metadata": {},
   "outputs": [],
   "source": [
    "# TODO plot the kernel"
   ]
  },
  {
   "cell_type": "markdown",
   "metadata": {},
   "source": [
    "(b)"
   ]
  },
  {
   "cell_type": "code",
   "execution_count": null,
   "metadata": {},
   "outputs": [],
   "source": [
    "# load the data\n",
    "data = np.load(\"data/samples.npy\")\n",
    "data50 = data[:50]\n",
    "print(f'{data.shape=}, {data50.shape=}')"
   ]
  },
  {
   "cell_type": "code",
   "execution_count": null,
   "metadata": {},
   "outputs": [],
   "source": [
    "def kde(x, obs, w=1):\n",
    "    # TODO: implement the KDE with the biweight kernel"
   ]
  },
  {
   "cell_type": "code",
   "execution_count": null,
   "metadata": {},
   "outputs": [],
   "source": [
    "# TODO: compute and plot the kde on the first 50 data points\n",
    "\n",
    "# TODO: explore what happens when you increase the number of points\n"
   ]
  },
  {
   "cell_type": "markdown",
   "metadata": {},
   "source": [
    "## 3 Mean-Shift\n",
    "(b) Bonus"
   ]
  },
  {
   "cell_type": "code",
   "execution_count": null,
   "metadata": {},
   "outputs": [],
   "source": [
    "# TODO: implement the update to the local mean\n",
    "\n",
    "def mean_shift_step(x, xt, r=1):\n",
    "    \"\"\"\n",
    "    A single step of mean shift, moving every point in xt to the local mean of points in x within a radious of r.\n",
    "    \n",
    "    Parameters\n",
    "    ----------\n",
    "    x : np.ndarray\n",
    "        Array of points underlying the KDE, shape (d, N1)\n",
    "    xt : np.ndarray\n",
    "        Current state of the mean shift algorithm, shape (d, N2)\n",
    "    n_components : int, optional\n",
    "        Number of requested components. By default returns all components.\n",
    "        \n",
    "    Returns\n",
    "    -------\n",
    "    np.ndarray\n",
    "        the points after the mean-shift step\n",
    "    \"\"\"\n",
    "    # NOTE: For the excercise you only need to implement this for d == 1. \n",
    "    #       If you want some extra numpy-practice, implement it for arbitrary dimension\n",
    "    \n",
    "    assert xt.shape[0] == x.shape[0], f'Shape mismatch: {x.shape[0]}!={xt.shape[0]}'\n",
    "    \n",
    "    # TODO: compute a N by N matrix 'dist' of distances, \n",
    "    #       such that dists[i, j] is the distance between x[i] and xt[j]\n",
    "    \n",
    "    # TODO: threshold the distances with r to get an array of masks for every data point\n",
    "    \n",
    "    # TODO: compute the number of points in x within radius r of each xt\n",
    "    \n",
    "    # TODO: compute the local means by summing over the neighbors of each element in xt \n",
    "    #       and dividing by the number of neighbors\n",
    "    \n",
    "    return local_means\n",
    "    "
   ]
  },
  {
   "cell_type": "code",
   "execution_count": null,
   "metadata": {},
   "outputs": [],
   "source": [
    "# load the data\n",
    "data = np.load(\"data/samples.npy\")\n",
    "x = data[:200]  # use e.g. the first 200 points\n",
    "xt = x\n",
    "\n",
    "trajectories = [xt]\n",
    "max_steps = 100\n",
    "for step in range(max_steps):\n",
    "    \n",
    "    # TODO: update xt with your mean shift step\n",
    "    \n",
    "    trajectories.append(xt)\n",
    "    if np.allclose(trajectories[-1], trajectories[-2]):  # break in case of convergence\n",
    "        break\n",
    "trajectories = np.stack(trajectories)\n",
    "n_steps = len(trajectories) - 1\n",
    "\n",
    "\n",
    "# TODO: plot the trajectories\n"
   ]
  },
  {
   "cell_type": "code",
   "execution_count": 3,
   "metadata": {},
   "outputs": [],
   "source": [
    "# TODO: repeat the above for \"blurring\" mean shift\n"
   ]
  },
  {
   "cell_type": "markdown",
   "metadata": {},
   "source": [
    "## 4 K-Means"
   ]
  },
  {
   "cell_type": "markdown",
   "metadata": {},
   "source": [
    "(b)"
   ]
  },
  {
   "cell_type": "code",
   "execution_count": null,
   "metadata": {},
   "outputs": [],
   "source": [
    "from sklearn.cluster import KMeans\n",
    "\n",
    "def kmeans_step(x, k, c=None, init='random'):\n",
    "    \"\"\"\n",
    "    K-Means clustering on a p x N data matrix.\n",
    "    \n",
    "    Parameters\n",
    "    ----------\n",
    "    x : np.ndarray\n",
    "        Data matrix of shape (p, N).\n",
    "    k : int\n",
    "        Number of cluster.\n",
    "    c : np.ndarray, optional\n",
    "        Current cluster centers. If None, the initialization as specified by 'init' will be used.\n",
    "    init: str\n",
    "        The initialization method to be used if c is None.\n",
    "        \n",
    "    Returns\n",
    "    -------\n",
    "    float, np.ndarray\n",
    "        cost after the step, updated cluster centers\n",
    "    \"\"\"\n",
    "    \n",
    "    if c is not None: \n",
    "        assert c.shape[1] == k\n",
    "        \n",
    "    # Note: the documentation is your friend: \n",
    "    #       https://scikit-learn.org/stable/modules/generated/sklearn.cluster.KMeans.html\n",
    "    \n",
    "    # TODO: set n_cluster, init, n_init and max_iter appropriately\n",
    "    single_step_kmeans = KMeans(\n",
    "        n_clusters=, \n",
    "        init=, \n",
    "        max_iter=,\n",
    "        n_init=,\n",
    "    )\n",
    "    \n",
    "    # TODO call the single_step_kmeans\n",
    "    \n",
    "    # TODO get the current energy (you don't have to compute it - it's stored in single_step_kmeans)\n",
    "    E = \n",
    "    \n",
    "    # TODO read out cluster centers \n",
    "    c = \n",
    "    \n",
    "    return E, c \n",
    "    "
   ]
  },
  {
   "cell_type": "code",
   "execution_count": null,
   "metadata": {},
   "outputs": [],
   "source": [
    "# load the data (you can try both with the full normalized feature and the 2d umap projection)\n",
    "\n",
    "features = np.load('data/dijet_features_normalized.npy')  # full features\n",
    "# features = np.load('data/dijet_features_umap.npy')      # umap projection\n",
    "\n",
    "print(f'{features.shape=}')"
   ]
  },
  {
   "cell_type": "code",
   "execution_count": null,
   "metadata": {
    "scrolled": false
   },
   "outputs": [],
   "source": [
    "def kmeans(x, k, max_steps=100, init='random'):\n",
    "    c = None\n",
    "    energies = []  # list of energies over the iterations. \n",
    "    for i in range(max_steps):\n",
    "        # Call the kmeans_step implemented above to get the energy and the next cluster centers\n",
    "        E, c = kmeans_step(x, k=k, c=c, init=init)\n",
    "        energies.append(E)\n",
    "        \n",
    "        # Stop the loop if there was no improvement\n",
    "        if i>=2 and energies[-1] == energies[-2]:\n",
    "            break\n",
    "    energies = np.array(energies)\n",
    "    return energies  # return array of energies\n",
    "\n",
    "\n",
    "for k in [3, 5, 10, 20]:\n",
    "    for init in ['k-means++', 'random']:\n",
    "        # TODO: for the given k and init, run k-means 20 times or more (using the kmeans function above)\n",
    "        #       and plot the resulting energy trajectores\n",
    "        "
   ]
  }
 ],
 "metadata": {
  "kernelspec": {
   "display_name": "Python 3.9.12 ('Pytorch')",
   "language": "python",
   "name": "python3"
  },
  "language_info": {
   "codemirror_mode": {
    "name": "ipython",
    "version": 3
   },
   "file_extension": ".py",
   "mimetype": "text/x-python",
   "name": "python",
   "nbconvert_exporter": "python",
   "pygments_lexer": "ipython3",
   "version": "3.9.12"
  },
  "vscode": {
   "interpreter": {
    "hash": "fb35402188f4b53ea7ca1c59d4dd610af939fac77374d085b1d6da6db096eebf"
   }
  }
 },
 "nbformat": 4,
 "nbformat_minor": 2
}
