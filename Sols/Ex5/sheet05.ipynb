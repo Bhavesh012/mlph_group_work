{
 "cells": [
  {
   "cell_type": "code",
   "execution_count": 1,
   "metadata": {},
   "outputs": [],
   "source": [
    "import numpy as np\n",
    "from matplotlib import pyplot as plt"
   ]
  },
  {
   "cell_type": "markdown",
   "metadata": {},
   "source": [
    "## 1 QDA\n",
    "(a)"
   ]
  },
  {
   "cell_type": "code",
   "execution_count": null,
   "metadata": {},
   "outputs": [],
   "source": [
    "pts = np.load('data/data1d.npy')\n",
    "labels = np.load('data/labels1d.npy')\n",
    "\n",
    "# TODO: group the points into two arrays pts0, pts1 according to the labels\n",
    "\n",
    "# TODO: compute the mean and standard deviations for each class (and print them)"
   ]
  },
  {
   "cell_type": "markdown",
   "metadata": {},
   "source": [
    "(b)"
   ]
  },
  {
   "cell_type": "code",
   "execution_count": null,
   "metadata": {},
   "outputs": [],
   "source": [
    "from scipy.stats import norm\n",
    "\n",
    "# TODO: evaluate the Gaussian class densities in a range from -5 to 5\n",
    "\n",
    "# TODO: evaulate the posterior p(y=1|x)\n",
    "\n",
    "# TODO: plot the class densities and the posterior p(y=1|x). (Don't forget title, axis labels, legend)\n"
   ]
  },
  {
   "cell_type": "markdown",
   "metadata": {},
   "source": [
    "## 3 Trees and Random Forests\n",
    "(a)"
   ]
  },
  {
   "cell_type": "code",
   "execution_count": null,
   "metadata": {},
   "outputs": [],
   "source": [
    "# load the data\n",
    "pts = np.load('data/data1d.npy')\n",
    "labels = np.load('data/labels1d.npy')\n"
   ]
  },
  {
   "cell_type": "code",
   "execution_count": null,
   "metadata": {},
   "outputs": [],
   "source": [
    "np.random.seed(4)\n",
    "A = np.random.randint(0,12,(11))\n",
    "B = np.arange(1,12)\n",
    "A,B"
   ]
  },
  {
   "cell_type": "code",
   "execution_count": null,
   "metadata": {},
   "outputs": [],
   "source": [
    "pts"
   ]
  },
  {
   "cell_type": "code",
   "execution_count": 4,
   "metadata": {},
   "outputs": [
    {
     "data": {
      "text/plain": [
       "array([-4.65357188, -4.05616038, -3.67314067, -3.14015405, -2.92987717,\n",
       "       -2.81557639, -2.77125674, -2.68557899, -2.48780604, -2.4317571 ,\n",
       "       -2.4052857 , -2.36208362, -2.33760509, -2.33513635, -2.24261984,\n",
       "       -2.21155365, -2.16509149, -2.15714544, -2.15202954, -2.08903936,\n",
       "       -2.08734259, -2.07069812, -2.07050741, -2.04443925, -2.01135129,\n",
       "       -2.00494237, -2.00237309, -1.98886885, -1.98093932, -1.95026995,\n",
       "       -1.94299724, -1.93854022, -1.93177543, -1.92099835, -1.91079502,\n",
       "       -1.88451947, -1.87200691, -1.86782162, -1.84994036, -1.83845968,\n",
       "       -1.83819423, -1.8133356 , -1.81224147, -1.80225372, -1.79949231,\n",
       "       -1.79145258, -1.78617199, -1.76713567, -1.75621122, -1.75242971,\n",
       "       -1.74557177, -1.74269144, -1.71708671, -1.71541652, -1.69886225,\n",
       "       -1.69649215, -1.69618399, -1.68942923, -1.68906281, -1.68850248,\n",
       "       -1.68503644, -1.68495476, -1.68471998, -1.67444797, -1.67023541,\n",
       "       -1.66758227, -1.66430415, -1.65848873, -1.6556911 , -1.65298275,\n",
       "       -1.62937302, -1.62568879, -1.60234456, -1.60099186, -1.59416471,\n",
       "       -1.58316122, -1.57042633, -1.56934863, -1.54352831, -1.5425679 ,\n",
       "       -1.47832279, -1.46377721, -1.46013618, -1.45993333, -1.45214029,\n",
       "       -1.42911506, -1.42475219, -1.42334287, -1.40874771, -1.40191306,\n",
       "       -1.39519134, -1.39293984, -1.38511284, -1.37154825, -1.36387441,\n",
       "       -1.34876013, -1.3286902 , -1.32418481, -1.30878749, -1.24831032,\n",
       "       -1.24691816, -1.23764285, -1.20583879, -1.20465522, -1.18189122,\n",
       "       -1.17768808, -1.15571119, -1.1529576 , -1.12278728, -1.08998431,\n",
       "       -1.08179172, -1.07626874, -1.04726699, -1.03309081, -1.03225954,\n",
       "       -1.00432448, -0.9895968 , -0.98018462, -0.97654932, -0.96413666,\n",
       "       -0.96392768, -0.93560272, -0.90162948, -0.89461163, -0.87472799,\n",
       "       -0.86669285, -0.85921226, -0.85069908, -0.84735422, -0.84217302,\n",
       "       -0.83475915, -0.82747362, -0.82452994, -0.81126667, -0.80096382,\n",
       "       -0.77095176, -0.76846861, -0.76195893, -0.7582784 , -0.69013402,\n",
       "       -0.61712451, -0.59153113, -0.58581671, -0.58095098, -0.5467337 ,\n",
       "       -0.53215754, -0.52898851, -0.51280301, -0.51172743, -0.49784985,\n",
       "       -0.46450187, -0.45923628, -0.45141196, -0.43343085, -0.43305662,\n",
       "       -0.40693934, -0.37990365, -0.37925292, -0.36887431, -0.33561857,\n",
       "       -0.31859207, -0.31311667, -0.29395138, -0.29189379, -0.27475421,\n",
       "       -0.26417126, -0.26175842, -0.22865827, -0.22325424, -0.20898861,\n",
       "       -0.18402495, -0.15255893, -0.12613452, -0.12463207, -0.10819753,\n",
       "       -0.07310651, -0.04990802, -0.04954591, -0.04315871, -0.0286318 ,\n",
       "       -0.0265669 ,  0.00819095,  0.02102905,  0.028547  ,  0.03611654,\n",
       "        0.04533125,  0.09701208,  0.11482825,  0.12944406,  0.15211861,\n",
       "        0.16024587,  0.20635926,  0.24727613,  0.28551415,  0.29533271,\n",
       "        0.29973313,  0.30961695,  0.32134394,  0.34351404,  0.36406475,\n",
       "        0.37532885,  0.39967645,  0.40789504,  0.41171273,  0.4181374 ,\n",
       "        0.47245774,  0.53432375,  0.56547855,  0.56810299,  0.60116501,\n",
       "        0.64906064,  0.66150326,  0.69096345,  0.70439547,  0.72199975,\n",
       "        0.72433188,  0.72712357,  0.73714003,  0.75063676,  0.77170014,\n",
       "        0.77370104,  0.77585278,  0.77918251,  0.79576377,  0.82138212,\n",
       "        0.82627724,  0.84498261,  0.85250978,  0.86401339,  0.86576752,\n",
       "        0.87671911,  0.88762482,  0.94115543,  0.9628262 ,  1.01579454,\n",
       "        1.09233669,  1.15534423,  1.19118712,  1.19836613,  1.25363614,\n",
       "        1.3152897 ,  1.35218826,  1.42775196,  1.45988293,  1.4840816 ,\n",
       "        1.49242144,  1.49383315,  1.50991753,  1.51108453,  1.56956202,\n",
       "        1.58398505,  1.59942183,  1.60996383,  1.63514587,  1.68461723,\n",
       "        1.68652251,  1.69708518,  1.69973524,  1.72981675,  1.75905348,\n",
       "        1.76282901,  1.76505338,  1.76817876,  1.7795246 ,  1.80735523,\n",
       "        1.81443669,  1.82074538,  1.83293752,  1.84035615,  1.84754634,\n",
       "        1.85001575,  1.85622097,  1.85960309,  1.86025292,  1.88127294,\n",
       "        1.89256053,  1.90711057,  1.90948584,  1.92412447,  1.93354608,\n",
       "        1.93403969,  1.93836509,  1.94176784,  1.95775337,  1.95859887,\n",
       "        1.99883712,  2.01414743,  2.02275446,  2.03425544,  2.0410078 ,\n",
       "        2.0654695 ,  2.06591819,  2.06857479,  2.08168512,  2.08455399,\n",
       "        2.09239004,  2.10460975,  2.10925932,  2.11562787,  2.13732993,\n",
       "        2.14311104,  2.14527049,  2.1539461 ,  2.15775218,  2.174697  ,\n",
       "        2.24274194,  2.26879772,  2.43594889,  2.46762784,  2.56481027,\n",
       "        2.61781414,  3.2354861 ,  3.40912767,  3.43055335,  3.61024951,\n",
       "        3.64341793,  3.66310731,  3.815449  ,  3.83263566,  4.34615794])"
      ]
     },
     "execution_count": 4,
     "metadata": {},
     "output_type": "execute_result"
    }
   ],
   "source": [
    "pts"
   ]
  },
  {
   "cell_type": "code",
   "execution_count": 35,
   "metadata": {},
   "outputs": [
    {
     "data": {
      "image/png": "[encoded data removed]",
      "text/plain": [
       "<Figure size 432x288 with 1 Axes>"
      ]
     },
     "metadata": {
      "needs_background": "light"
     },
     "output_type": "display_data"
    }
   ],
   "source": [
    "x  = np.random.normal(0.5,0.5,500)\n",
    "y = np.random.normal(3.5,0.5,1000)\n",
    "pts2  = np.concatenate((x,y))\n",
    "plt.hist(pts2,bins = 20)\n",
    "\n",
    "def lab(x):\n",
    "\n",
    "    arr = []\n",
    "    for i in x:\n",
    "        if(i<=2):\n",
    "            arr.append(0)\n",
    "        else:\n",
    "            arr.append(1)  \n",
    "    return arr        \n",
    "\n",
    "pts2 = np.sort(pts2)\n",
    "label2 = lab(pts2)  \n",
    "  "
   ]
  },
  {
   "cell_type": "code",
   "execution_count": 36,
   "metadata": {},
   "outputs": [
    {
     "data": {
      "image/png": "[encoded data removed]",
      "text/plain": [
       "<Figure size 864x720 with 1 Axes>"
      ]
     },
     "metadata": {
      "needs_background": "light"
     },
     "output_type": "display_data"
    }
   ],
   "source": [
    "gini_impurity_arr = []\n",
    "for i in range(1,len(pts2)-1):\n",
    "\n",
    "    left = label2[:i]\n",
    "    right = label2[i:len(pts2)-1]\n",
    "\n",
    "    gini_impurity_arr.append(gini_impurity(left,right,i))\n",
    "\n",
    "\n",
    "gini_impurity_arr = np.array(gini_impurity_arr)\n",
    "best_fit = np.argmin(gini_impurity_arr)   \n",
    "\n",
    "best_fit = pts2[best_fit]\n",
    "\n",
    "\n",
    "plt.figure(figsize = (12,10))\n",
    "plt.hist(pts2,bins = 30)\n",
    "y = np.linspace(0,90,100)\n",
    "x  = best_fit*np.ones(100)\n",
    "plt.plot(x,y)\n",
    "\n",
    "plt.show()"
   ]
  },
  {
   "cell_type": "code",
   "execution_count": 32,
   "metadata": {},
   "outputs": [
    {
     "name": "stdout",
     "output_type": "stream",
     "text": [
      "103\n",
      "-1.2046552189103712\n"
     ]
    },
    {
     "data": {
      "image/png": "[encoded data removed]",
      "text/plain": [
       "<Figure size 864x720 with 1 Axes>"
      ]
     },
     "metadata": {
      "needs_background": "light"
     },
     "output_type": "display_data"
    }
   ],
   "source": [
    "# load the data\n",
    "pts = np.load('data/data1d.npy')\n",
    "labels = np.load('data/labels1d.npy')\n",
    "\n",
    "\n",
    "\n",
    "# TODO: Sort the points to easily split them\n",
    "\n",
    "\n",
    "arguments_index = np.argsort(pts)  ##indexing of sorted points\n",
    "pts = pts[arguments_index]   ##sorting the points\n",
    "labels = labels[arguments_index]  ##correspoind sorted target variable\n",
    "\n",
    "# TODO: Implement or find implementation for Gini impurity, entropy and misclassifcation rate\n",
    "\n",
    "\n",
    "\n",
    "def pmk(class_arr):\n",
    "\n",
    "    \"\"\"\n",
    "    this function will return the probabilities\n",
    "    of each class in a particular node, since the data only has two classes either 0 or 1 therefore\n",
    "    i am making this function to return array of shape 2 ie [p0,p1]    \n",
    "    \"\"\"\n",
    "    \n",
    "    class_counts = np.unique(class_arr,return_counts=True)[1]  ##we are only accessing the counts of 0 and 1 in a particular node\n",
    "    \n",
    "    p_arr = class_counts/len(class_arr)\n",
    "    return p_arr**2\n",
    "\n",
    "def gini_impurity(left,right,n):\n",
    "\n",
    "    \"\"\"this function will take left node and right node of a split as an input\n",
    "    output: \n",
    "           gini index\n",
    "\n",
    "    \"\"\"\n",
    "    ##calculating gini index \n",
    "\n",
    "    p_left=  pmk(left)\n",
    "    p_right = pmk(right)\n",
    "\n",
    "    size = len(left)+len(right)\n",
    "    fl = n/size\n",
    "    fr = 1-fl\n",
    "\n",
    "   \n",
    "    gini_index = fl*(1-np.sum(p_left))+fr*(1-np.sum(p_right))\n",
    "    \n",
    "    return gini_index\n",
    "\n",
    "\n",
    "\n",
    "\n",
    "\n",
    "\n",
    "# TODO: Iterate over the possible splits, evaluating and saving the three criteria for each one\n",
    "\n",
    "gini_impurity_arr = []\n",
    "for i in range(1,len(pts)-1):\n",
    "\n",
    "    left = labels[:i]\n",
    "    right = labels[i:len(pts)-1]\n",
    "\n",
    "    gini_impurity_arr.append(gini_impurity(left,right,i))\n",
    "\n",
    "\n",
    "gini_impurity_arr = np.array(gini_impurity_arr)\n",
    "best_fit = np.argmin(gini_impurity_arr)   \n",
    "print(best_fit)\n",
    "best_fit = pts[best_fit]\n",
    "print(best_fit)\n",
    "\n",
    "plt.figure(figsize = (12,10))\n",
    "plt.hist(pts,bins = 30)\n",
    "y = np.linspace(0,90,100)\n",
    "x  = best_fit*np.ones(100)\n",
    "plt.plot(x,y)\n",
    "\n",
    "plt.show()\n",
    "\n",
    "\n",
    "    \n",
    "# TODO: Compute the split that each criterion favours and visualize them \n",
    "#       (e.g. with a histogram for each class and vertical lines to show the splits)\n"
   ]
  },
  {
   "cell_type": "code",
   "execution_count": null,
   "metadata": {},
   "outputs": [],
   "source": [
    "plt.hist(labels)"
   ]
  },
  {
   "cell_type": "code",
   "execution_count": null,
   "metadata": {},
   "outputs": [],
   "source": [
    "gini"
   ]
  },
  {
   "cell_type": "code",
   "execution_count": null,
   "metadata": {},
   "outputs": [],
   "source": []
  },
  {
   "cell_type": "code",
   "execution_count": null,
   "metadata": {},
   "outputs": [],
   "source": []
  },
  {
   "cell_type": "code",
   "execution_count": null,
   "metadata": {},
   "outputs": [],
   "source": []
  },
  {
   "cell_type": "code",
   "execution_count": null,
   "metadata": {},
   "outputs": [],
   "source": []
  },
  {
   "cell_type": "code",
   "execution_count": null,
   "metadata": {},
   "outputs": [],
   "source": []
  },
  {
   "cell_type": "markdown",
   "metadata": {},
   "source": [
    "(b)"
   ]
  },
  {
   "cell_type": "code",
   "execution_count": null,
   "metadata": {},
   "outputs": [],
   "source": [
    "# load the dijet data\n",
    "features = np.load('data/dijet_features_normalized.npy')\n",
    "labels = np.load('data/dijet_labels.npy')\n",
    "\n",
    "# TODO: define train, val and test splits as specified (make sure to shuffle the data before splitting it!)\n"
   ]
  },
  {
   "cell_type": "code",
   "execution_count": null,
   "metadata": {},
   "outputs": [],
   "source": [
    "from sklearn.ensemble import RandomForestClassifier\n",
    "\n",
    "# TODO: train a random forest classifier for each combination of hyperparameters as specified on the sheet\n",
    "#       and evaluate the performances on the validation set.\n"
   ]
  },
  {
   "cell_type": "code",
   "execution_count": null,
   "metadata": {},
   "outputs": [],
   "source": [
    "# TODO: for your preferred configuration, evaluate the performance of the best configuration on the test set\n"
   ]
  },
  {
   "cell_type": "markdown",
   "metadata": {},
   "source": [
    "## 4 Beta Distribution"
   ]
  },
  {
   "cell_type": "markdown",
   "metadata": {},
   "source": [
    "Answer 4.a) \n",
    "\n",
    "given that, first we estimate $p(x|\\mu_x)$ using the function given in the question i.e. using  bernoulli distribution with mean $\\mu_x$.\n",
    "\n",
    "using Bayes' Theorem we can calculate the posterior distribution as \n",
    "\n",
    "\\begin{equation}\n",
    "p(\\mu_x|x) = \\frac{p(x|\\mu_x)p(\\mu_x)}{p(x)}\n",
    "\\end{equation}\n",
    "\n",
    "\n",
    "\\begin{equation}\n",
    "p(\\mu_x|x) = \\frac{C_{xy}p(\\mu_x)}{p(x)}\n",
    "\\end{equation}\n",
    "\n",
    "\n",
    "where  $p(x|\\mu_x)$ is the likelihood of $\\mu_x $ and $p(\\mu_x)$ is the prior probability and p(x) can be calculated using the normalizing condition ie\n",
    "\n"
   ]
  },
  {
   "cell_type": "code",
   "execution_count": null,
   "metadata": {},
   "outputs": [],
   "source": []
  },
  {
   "cell_type": "code",
   "execution_count": null,
   "metadata": {},
   "outputs": [],
   "source": []
  },
  {
   "cell_type": "code",
   "execution_count": 64,
   "metadata": {},
   "outputs": [
    {
     "data": {
      "image/png": "[encoded data removed]",
      "text/plain": [
       "<Figure size 576x72 with 1 Axes>"
      ]
     },
     "metadata": {
      "needs_background": "light"
     },
     "output_type": "display_data"
    }
   ],
   "source": [
    "pts = np.load('data/data1d.npy')\n",
    "labels = np.load('data/labels1d.npy')\n",
    "\n",
    "# split the data into the classes\n",
    "pts1 = pts[labels==0]\n",
    "pts2 = pts[labels==1]\n",
    "\n",
    "# plot the data\n",
    "fig, ax = plt.subplots(figsize=(8, 1))\n",
    "plt.scatter(pts1, np.ones_like(pts1), label='pts1', marker='|', alpha=0.3)\n",
    "plt.scatter(pts2, np.zeros_like(pts2), label='pts2', marker='|', alpha=0.3)\n",
    "plt.legend()\n",
    "plt.yticks([])\n",
    "plt.ylim(-0.2, 1.2)\n",
    "plt.show()"
   ]
  },
  {
   "cell_type": "code",
   "execution_count": 5,
   "metadata": {},
   "outputs": [
    {
     "data": {
      "image/png": "[encoded data removed]",
      "text/plain": [
       "<Figure size 432x288 with 1 Axes>"
      ]
     },
     "metadata": {
      "needs_background": "light"
     },
     "output_type": "display_data"
    }
   ],
   "source": [
    "from scipy.special import gamma, gammaln\n",
    "\n",
    "def beta_pdf(x, a, b):\n",
    "    \"\"\"Probability density function for the Beta distribution with parameters a and b. Works verctorized over all inputs\"\"\"\n",
    "#     return (gamma(a+b) * x**(a-1) * (1-x)**(b-1)) / gamma(a) / gamma(b)  # breaks down for larger a, b\n",
    "    return np.exp(gammaln(a+b) - gammaln(a) - gammaln(b) + np.log(x)*(a-1) + np.log(1-x)*(b-1))  # works for larger a, b\n",
    "\n",
    "eps = 1e-6\n",
    "x = np.linspace(eps, 1-eps, 1000, endpoint=True)\n",
    "for a, b in ((0.1, 0.1), (0.1, 1), (1, 1), (2, 2), (10, 10), (5, 15)):\n",
    "    plt.plot(x, beta_pdf(x, a, b), label=f'{a=}, {b=}')\n",
    "plt.legend()\n",
    "plt.ylim(0, 5)\n",
    "plt.xlim(0, 1)\n",
    "plt.title('Beta distribution for different parameters')\n",
    "plt.show()"
   ]
  },
  {
   "cell_type": "code",
   "execution_count": null,
   "metadata": {},
   "outputs": [],
   "source": [
    "[x1,x2,.... xm]\n"
   ]
  },
  {
   "cell_type": "code",
   "execution_count": 100,
   "metadata": {},
   "outputs": [
    {
     "name": "stdout",
     "output_type": "stream",
     "text": [
      "[2 6]\n"
     ]
    },
    {
     "data": {
      "text/plain": [
       "array([0, 0, 1, 1, 1, 1, 2, 2, 2, 2], dtype=int64)"
      ]
     },
     "execution_count": 100,
     "metadata": {},
     "output_type": "execute_result"
    }
   ],
   "source": [
    "x1 = 4\n",
    "r = 2\n",
    "diff = np.array([x1-r,x1+r])\n",
    "print(diff)\n",
    "np.searchsorted(diff,[1,2,3,4,5,6,7,8,9,10])\n"
   ]
  },
  {
   "cell_type": "code",
   "execution_count": 104,
   "metadata": {},
   "outputs": [
    {
     "data": {
      "text/plain": [
       "array([[-1,  3],\n",
       "       [ 0,  4],\n",
       "       [ 1,  5],\n",
       "       [ 2,  6]])"
      ]
     },
     "execution_count": 104,
     "metadata": {},
     "output_type": "execute_result"
    }
   ],
   "source": [
    "x1 = np.arange(1,5).reshape(4,1)\n",
    "stack  = np.hstack((x1-r,x1+r))\n",
    "stack"
   ]
  },
  {
   "cell_type": "code",
   "execution_count": null,
   "metadata": {},
   "outputs": [],
   "source": []
  },
  {
   "cell_type": "code",
   "execution_count": 99,
   "metadata": {},
   "outputs": [
    {
     "data": {
      "text/plain": [
       "array([2, 5], dtype=int64)"
      ]
     },
     "execution_count": 99,
     "metadata": {},
     "output_type": "execute_result"
    }
   ],
   "source": [
    "a = np.array([aa])aaa\n",
    "b = np.array([1.4,4.3])\n",
    "np.searchsorted(a,b)"
   ]
  },
  {
   "cell_type": "code",
   "execution_count": 93,
   "metadata": {},
   "outputs": [
    {
     "data": {
      "image/png": "[encoded data removed]",
      "text/plain": [
       "<Figure size 576x360 with 1 Axes>"
      ]
     },
     "metadata": {
      "needs_background": "light"
     },
     "output_type": "display_data"
    }
   ],
   "source": [
    "\n",
    "def count_points_within_distance(x, pts, r):\n",
    "    \"\"\"\n",
    "    Count number of points among pts within a distance r of query points x (in 1D).\n",
    "    \n",
    "    Parameters\n",
    "    ----------\n",
    "    x : np.ndarray\n",
    "        Query points of shape (M).\n",
    "    pts : np.ndarray\n",
    "        Points to be searched, shape (N).\n",
    "    r : float\n",
    "        radius.\n",
    "        \n",
    "    Returns\n",
    "    -------\n",
    "    np.ndarray\n",
    "        Array of counts of shape (M)\n",
    "        \n",
    "    \"\"\"\n",
    "    # TODO: sort the points\n",
    "\n",
    "    pts_sorted = np.sort(pts)\n",
    "\n",
    "    pts1 = pts_sorted[]\n",
    "    \n",
    "    # TODO: use np.searchsorted on the interval boundaries \n",
    "    #       to find number of points inside each interval (don't use loops!)\n",
    "\n",
    "    # first i will create a stack array os shape (M,2) columns with first column for x-r and \n",
    "    # second column for x+r\n",
    "    M = len(x)\n",
    "    x_clmn = x.reshape(M,1)  ##changing query array to a column vector\n",
    "    stack =  np.hstack((x_clmn-r,x_clmn+r))\n",
    "\n",
    "    ##creating a lambda function for np searchsorted\n",
    "\n",
    "    count_func = lambda count_func : len(np.where(np.searchsorted(count_func,pts_sorted)==1)[0])  ##performing searchsorted on [x-r,x+r]\n",
    "\n",
    "    counts = np.array([count_func(stack[r,:].reshape(2)) for r in range(M)])\n",
    "\n",
    "\n",
    "    \n",
    "    return counts\n",
    "\n",
    "# use a flat prior\n",
    "prior_a, prior_b = 1, 1  \n",
    "\n",
    "# define value range\n",
    "vmin, vmax = -5, 5\n",
    "\n",
    "# set the radius\n",
    "r = .3\n",
    "\n",
    "# TODO: sample x and mu as described in the exercise\n",
    "# TODO: use count_points_within_distance to calculate the counts\n",
    "\n",
    "# TODO (optional): plot the counts vs x\n",
    "x = np.arange(-5,5.01,0.01)\n",
    "count_arr = count_points_within_distance(x,pts1,r)\n",
    "plt.figure(figsize = (8,5))\n",
    "plt.xlabel('x')\n",
    "plt.ylabel(r'$C_{xy}$ with y = 1')\n",
    "plt.plot(x,count_arr)\n",
    "plt.show()\n"
   ]
  },
  {
   "cell_type": "code",
   "execution_count": null,
   "metadata": {},
   "outputs": [],
   "source": [
    "\n",
    "\n",
    "\n",
    "# TODO: evaluate the posterior to get an image (use broadcasting, no loops needed!)\n",
    "\n",
    "# TODO: plot the posterior as an image, specify the correct origin and extent\n"
   ]
  },
  {
   "cell_type": "markdown",
   "metadata": {},
   "source": [
    "(e) Bonus"
   ]
  },
  {
   "cell_type": "code",
   "execution_count": 97,
   "metadata": {},
   "outputs": [
    {
     "data": {
      "text/plain": [
       "array([0.  , 0.01, 0.02, 0.03, 0.04, 0.05, 0.06, 0.07, 0.08, 0.09, 0.1 ,\n",
       "       0.11, 0.12, 0.13, 0.14, 0.15, 0.16, 0.17, 0.18, 0.19, 0.2 , 0.21,\n",
       "       0.22, 0.23, 0.24, 0.25, 0.26, 0.27, 0.28, 0.29, 0.3 , 0.31, 0.32,\n",
       "       0.33, 0.34, 0.35, 0.36, 0.37, 0.38, 0.39, 0.4 , 0.41, 0.42, 0.43,\n",
       "       0.44, 0.45, 0.46, 0.47, 0.48, 0.49, 0.5 , 0.51, 0.52, 0.53, 0.54,\n",
       "       0.55, 0.56, 0.57, 0.58, 0.59, 0.6 , 0.61, 0.62, 0.63, 0.64, 0.65,\n",
       "       0.66, 0.67, 0.68, 0.69, 0.7 , 0.71, 0.72, 0.73, 0.74, 0.75, 0.76,\n",
       "       0.77, 0.78, 0.79, 0.8 , 0.81, 0.82, 0.83, 0.84, 0.85, 0.86, 0.87,\n",
       "       0.88, 0.89, 0.9 , 0.91, 0.92, 0.93, 0.94, 0.95, 0.96, 0.97, 0.98,\n",
       "       0.99, 1.  ])"
      ]
     },
     "execution_count": 97,
     "metadata": {},
     "output_type": "execute_result"
    }
   ],
   "source": [
    "a = np.arange(0,1.01,0.01)\n",
    "a"
   ]
  },
  {
   "cell_type": "code",
   "execution_count": null,
   "metadata": {},
   "outputs": [],
   "source": []
  }
 ],
 "metadata": {
  "kernelspec": {
   "display_name": "Python 3.9.7 ('base')",
   "language": "python",
   "name": "python3"
  },
  "language_info": {
   "codemirror_mode": {
    "name": "ipython",
    "version": 3
   },
   "file_extension": ".py",
   "mimetype": "text/x-python",
   "name": "python",
   "nbconvert_exporter": "python",
   "pygments_lexer": "ipython3",
   "version": "3.9.7"
  },
  "vscode": {
   "interpreter": {
    "hash": "9ac24537e9889eba38fad2cdb32ee2876b8a887659deb306ccfdba11240b19c8"
   }
  }
 },
 "nbformat": 4,
 "nbformat_minor": 2
}
